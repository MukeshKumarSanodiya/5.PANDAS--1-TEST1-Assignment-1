{
 "cells": [
  {
   "cell_type": "markdown",
   "metadata": {},
   "source": [
    "# Mukesh Kumar Sanodiya (11-Jan-2019)\n"
   ]
  },
  {
   "cell_type": "markdown",
   "metadata": {},
   "source": [
    "# 5.PANDAS -1 & TEST1- Assignment-1"
   ]
  },
  {
   "cell_type": "markdown",
   "metadata": {},
   "source": [
    "# 1) How-to-count-distance-to-the-previous-zero\n",
    "For each value, count the difference of the distance from the previous zero (or the start\n",
    "of the Series, whichever is closer) and if there are no previous zeros,print the position\n",
    "Consider a DataFrame df where there is an integer column {'X':[7, 2, 0, 3, 4, 2, 5, 0, 3, 4]}\n",
    "\n",
    "The values should therefore be [1, 2, 0, 1, 2, 3, 4, 0, 1, 2]. Make this a new column 'Y'.\n",
    "\n",
    "import pandas as pd\n",
    "\n",
    "df = pd.DataFrame({'X': [7, 2, 0, 3, 4, 2, 5, 0, 3, 4]})"
   ]
  },
  {
   "cell_type": "code",
   "execution_count": 2,
   "metadata": {},
   "outputs": [
    {
     "data": {
      "text/html": [
       "<div>\n",
       "<style scoped>\n",
       "    .dataframe tbody tr th:only-of-type {\n",
       "        vertical-align: middle;\n",
       "    }\n",
       "\n",
       "    .dataframe tbody tr th {\n",
       "        vertical-align: top;\n",
       "    }\n",
       "\n",
       "    .dataframe thead th {\n",
       "        text-align: right;\n",
       "    }\n",
       "</style>\n",
       "<table border=\"1\" class=\"dataframe\">\n",
       "  <thead>\n",
       "    <tr style=\"text-align: right;\">\n",
       "      <th></th>\n",
       "      <th>X</th>\n",
       "      <th>Y</th>\n",
       "    </tr>\n",
       "  </thead>\n",
       "  <tbody>\n",
       "    <tr>\n",
       "      <th>0</th>\n",
       "      <td>7</td>\n",
       "      <td>1</td>\n",
       "    </tr>\n",
       "    <tr>\n",
       "      <th>1</th>\n",
       "      <td>2</td>\n",
       "      <td>2</td>\n",
       "    </tr>\n",
       "    <tr>\n",
       "      <th>2</th>\n",
       "      <td>0</td>\n",
       "      <td>0</td>\n",
       "    </tr>\n",
       "    <tr>\n",
       "      <th>3</th>\n",
       "      <td>3</td>\n",
       "      <td>1</td>\n",
       "    </tr>\n",
       "    <tr>\n",
       "      <th>4</th>\n",
       "      <td>4</td>\n",
       "      <td>2</td>\n",
       "    </tr>\n",
       "    <tr>\n",
       "      <th>5</th>\n",
       "      <td>2</td>\n",
       "      <td>3</td>\n",
       "    </tr>\n",
       "    <tr>\n",
       "      <th>6</th>\n",
       "      <td>5</td>\n",
       "      <td>4</td>\n",
       "    </tr>\n",
       "    <tr>\n",
       "      <th>7</th>\n",
       "      <td>0</td>\n",
       "      <td>0</td>\n",
       "    </tr>\n",
       "    <tr>\n",
       "      <th>8</th>\n",
       "      <td>3</td>\n",
       "      <td>1</td>\n",
       "    </tr>\n",
       "    <tr>\n",
       "      <th>9</th>\n",
       "      <td>4</td>\n",
       "      <td>2</td>\n",
       "    </tr>\n",
       "  </tbody>\n",
       "</table>\n",
       "</div>"
      ],
      "text/plain": [
       "   X  Y\n",
       "0  7  1\n",
       "1  2  2\n",
       "2  0  0\n",
       "3  3  1\n",
       "4  4  2\n",
       "5  2  3\n",
       "6  5  4\n",
       "7  0  0\n",
       "8  3  1\n",
       "9  4  2"
      ]
     },
     "execution_count": 2,
     "metadata": {},
     "output_type": "execute_result"
    }
   ],
   "source": [
    "import pandas as pd\n",
    "import numpy as np\n",
    "df1 = pd.Series([7, 2, 0, 3, 4, 2, 5, 0, 3, 4])\n",
    "df2=(df1.groupby(df1.eq(0).cumsum().mask(df1.eq(0))).cumcount() + 1).mask(df1.eq(0), 0).tolist()\n",
    "df = pd.DataFrame({'X': [7, 2, 0, 3, 4, 2, 5, 0, 3, 4]})\n",
    "df['Y']=df2\n",
    "df\n"
   ]
  },
  {
   "cell_type": "markdown",
   "metadata": {},
   "source": [
    "# 2) Create a DatetimeIndex that contains each business day of 2015 and use it to index a Series of random numbers."
   ]
  },
  {
   "cell_type": "code",
   "execution_count": 3,
   "metadata": {},
   "outputs": [
    {
     "data": {
      "text/plain": [
       "2015-01-01    0.355970\n",
       "2015-01-02    0.232807\n",
       "2015-01-03    0.928805\n",
       "2015-01-04    0.357499\n",
       "2015-01-05    0.229297\n",
       "2015-01-06    0.675785\n",
       "2015-01-07    0.983915\n",
       "2015-01-08    0.156871\n",
       "2015-01-09    0.898024\n",
       "2015-01-10    0.639735\n",
       "2015-01-11    0.651119\n",
       "2015-01-12    0.034889\n",
       "2015-01-13    0.779264\n",
       "2015-01-14    0.435209\n",
       "2015-01-15    0.567365\n",
       "2015-01-16    0.607613\n",
       "2015-01-17    0.835542\n",
       "2015-01-18    0.665150\n",
       "2015-01-19    0.685400\n",
       "2015-01-20    0.222339\n",
       "2015-01-21    0.278797\n",
       "2015-01-22    0.084652\n",
       "2015-01-23    0.356260\n",
       "2015-01-24    0.790400\n",
       "2015-01-25    0.118040\n",
       "2015-01-26    0.804665\n",
       "2015-01-27    0.104120\n",
       "2015-01-28    0.014454\n",
       "2015-01-29    0.953044\n",
       "2015-01-30    0.727023\n",
       "                ...   \n",
       "2015-12-02    0.738633\n",
       "2015-12-03    0.042166\n",
       "2015-12-04    0.806115\n",
       "2015-12-05    0.248762\n",
       "2015-12-06    0.833188\n",
       "2015-12-07    0.814984\n",
       "2015-12-08    0.510007\n",
       "2015-12-09    0.864760\n",
       "2015-12-10    0.030226\n",
       "2015-12-11    0.157519\n",
       "2015-12-12    0.481037\n",
       "2015-12-13    0.460280\n",
       "2015-12-14    0.063129\n",
       "2015-12-15    0.790461\n",
       "2015-12-16    0.954172\n",
       "2015-12-17    0.490959\n",
       "2015-12-18    0.386683\n",
       "2015-12-19    0.197305\n",
       "2015-12-20    0.636897\n",
       "2015-12-21    0.288613\n",
       "2015-12-22    0.306276\n",
       "2015-12-23    0.000436\n",
       "2015-12-24    0.609465\n",
       "2015-12-25    0.552656\n",
       "2015-12-26    0.376895\n",
       "2015-12-27    0.314753\n",
       "2015-12-28    0.811185\n",
       "2015-12-29    0.130913\n",
       "2015-12-30    0.125958\n",
       "2015-12-31    0.844332\n",
       "Freq: D, Length: 365, dtype: float64"
      ]
     },
     "execution_count": 3,
     "metadata": {},
     "output_type": "execute_result"
    }
   ],
   "source": [
    "dti = pd.date_range(start='2015-01-01', end='2015-12-31', freq='D') \n",
    "s = pd.Series(np.random.rand(len(dti)), index=dti)\n",
    "s"
   ]
  },
  {
   "cell_type": "markdown",
   "metadata": {},
   "source": [
    "# 3) Find the sum of the values in s for every Wednesday"
   ]
  },
  {
   "cell_type": "code",
   "execution_count": 4,
   "metadata": {},
   "outputs": [
    {
     "data": {
      "text/plain": [
       "28.470407638532865"
      ]
     },
     "execution_count": 4,
     "metadata": {},
     "output_type": "execute_result"
    }
   ],
   "source": [
    "s[dti.weekday == 2].sum()\n"
   ]
  },
  {
   "cell_type": "markdown",
   "metadata": {},
   "source": [
    "# 4) Average For each calendar month"
   ]
  },
  {
   "cell_type": "code",
   "execution_count": 5,
   "metadata": {},
   "outputs": [
    {
     "data": {
      "text/plain": [
       "2015-01-31    0.515549\n",
       "2015-02-28    0.496722\n",
       "2015-03-31    0.460345\n",
       "2015-04-30    0.506461\n",
       "2015-05-31    0.492461\n",
       "2015-06-30    0.529757\n",
       "2015-07-31    0.441193\n",
       "2015-08-31    0.505551\n",
       "2015-09-30    0.484271\n",
       "2015-10-31    0.502087\n",
       "2015-11-30    0.453361\n",
       "2015-12-31    0.474175\n",
       "Freq: M, dtype: float64"
      ]
     },
     "execution_count": 5,
     "metadata": {},
     "output_type": "execute_result"
    }
   ],
   "source": [
    "s.resample('M').mean()"
   ]
  },
  {
   "cell_type": "markdown",
   "metadata": {},
   "source": [
    "# 5) For each group of four consecutive calendar months in s, find the date on which the highest value occurred."
   ]
  },
  {
   "cell_type": "code",
   "execution_count": 6,
   "metadata": {},
   "outputs": [
    {
     "data": {
      "text/plain": [
       "2015-01-31   2015-01-07\n",
       "2015-05-31   2015-05-07\n",
       "2015-09-30   2015-08-29\n",
       "2016-01-31   2015-10-15\n",
       "dtype: datetime64[ns]"
      ]
     },
     "execution_count": 6,
     "metadata": {},
     "output_type": "execute_result"
    }
   ],
   "source": [
    "s.groupby(pd.Grouper(freq='4M')).idxmax()"
   ]
  },
  {
   "cell_type": "code",
   "execution_count": null,
   "metadata": {},
   "outputs": [],
   "source": []
  }
 ],
 "metadata": {
  "kernelspec": {
   "display_name": "Python 3",
   "language": "python",
   "name": "python3"
  },
  "language_info": {
   "codemirror_mode": {
    "name": "ipython",
    "version": 3
   },
   "file_extension": ".py",
   "mimetype": "text/x-python",
   "name": "python",
   "nbconvert_exporter": "python",
   "pygments_lexer": "ipython3",
   "version": "3.7.0"
  }
 },
 "nbformat": 4,
 "nbformat_minor": 2
}
